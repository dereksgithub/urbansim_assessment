{
 "cells": [
  {
   "cell_type": "markdown",
   "metadata": {},
   "source": [
    "## Network Analysis\n",
    "### 1.1 Centrality Measures\n",
    "Select 3 centrality measures to characterise nodes, aiming at identifying the most important nodes in \n",
    "the underground network. Give the definition of each of the measures (including their equation), put \n",
    "the measures into the context of the underground, and why they will allow you to find the stations that \n",
    "are most crucial for the functioning of the underground. Compute the measures for your nodes in the \n",
    "network, and give the results in a table for the first 10 ranked nodes for each of the 3 measures.  "
   ]
  },
  {
   "cell_type": "code",
   "execution_count": 1,
   "metadata": {},
   "outputs": [],
   "source": [
    "import matplotlib.pyplot as plt\n",
    "import pandas as pd\n",
    "import networkx as nx\n",
    "import numpy as np\n",
    "from operator import itemgetter"
   ]
  },
  {
   "cell_type": "markdown",
   "metadata": {},
   "source": [
    "1.1.1 Read the data, select centrality measures:\n"
   ]
  },
  {
   "cell_type": "code",
   "execution_count": 2,
   "metadata": {},
   "outputs": [
    {
     "ename": "FileNotFoundError",
     "evalue": "[Errno 2] No such file or directory: 'london_tubenetwork.graphml'",
     "output_type": "error",
     "traceback": [
      "\u001b[0;31m---------------------------------------------------------------------------\u001b[0m",
      "\u001b[0;31mFileNotFoundError\u001b[0m                         Traceback (most recent call last)",
      "Cell \u001b[0;32mIn[2], line 1\u001b[0m\n\u001b[0;32m----> 1\u001b[0m london_graph \u001b[38;5;241m=\u001b[39m \u001b[43mnx\u001b[49m\u001b[38;5;241;43m.\u001b[39;49m\u001b[43mread_graphml\u001b[49m\u001b[43m(\u001b[49m\u001b[38;5;124;43m'\u001b[39;49m\u001b[38;5;124;43mlondon_tubenetwork.graphml\u001b[39;49m\u001b[38;5;124;43m'\u001b[39;49m\u001b[43m)\u001b[49m\n",
      "File \u001b[0;32m~/.local/lib/python3.10/site-packages/networkx/utils/decorators.py:770\u001b[0m, in \u001b[0;36margmap.__call__.<locals>.func\u001b[0;34m(_argmap__wrapper, *args, **kwargs)\u001b[0m\n\u001b[1;32m    769\u001b[0m \u001b[38;5;28;01mdef\u001b[39;00m \u001b[38;5;21mfunc\u001b[39m(\u001b[38;5;241m*\u001b[39margs, __wrapper\u001b[38;5;241m=\u001b[39m\u001b[38;5;28;01mNone\u001b[39;00m, \u001b[38;5;241m*\u001b[39m\u001b[38;5;241m*\u001b[39mkwargs):\n\u001b[0;32m--> 770\u001b[0m     \u001b[38;5;28;01mreturn\u001b[39;00m \u001b[43margmap\u001b[49m\u001b[38;5;241;43m.\u001b[39;49m\u001b[43m_lazy_compile\u001b[49m\u001b[43m(\u001b[49m\u001b[43m__wrapper\u001b[49m\u001b[43m)\u001b[49m\u001b[43m(\u001b[49m\u001b[38;5;241;43m*\u001b[39;49m\u001b[43margs\u001b[49m\u001b[43m,\u001b[49m\u001b[43m \u001b[49m\u001b[38;5;241;43m*\u001b[39;49m\u001b[38;5;241;43m*\u001b[39;49m\u001b[43mkwargs\u001b[49m\u001b[43m)\u001b[49m\n",
      "File \u001b[0;32m<class 'networkx.utils.decorators.argmap'> compilation 5:3\u001b[0m, in \u001b[0;36margmap_read_graphml_1\u001b[0;34m(path, node_type, edge_key_type, force_multigraph, backend, **backend_kwargs)\u001b[0m\n\u001b[1;32m      1\u001b[0m \u001b[38;5;28;01mimport\u001b[39;00m \u001b[38;5;21;01mbz2\u001b[39;00m\n\u001b[1;32m      2\u001b[0m \u001b[38;5;28;01mimport\u001b[39;00m \u001b[38;5;21;01mcollections\u001b[39;00m\n\u001b[0;32m----> 3\u001b[0m \u001b[38;5;28;01mimport\u001b[39;00m \u001b[38;5;21;01mgzip\u001b[39;00m\n\u001b[1;32m      4\u001b[0m \u001b[38;5;28;01mimport\u001b[39;00m \u001b[38;5;21;01minspect\u001b[39;00m\n\u001b[1;32m      5\u001b[0m \u001b[38;5;28;01mimport\u001b[39;00m \u001b[38;5;21;01mitertools\u001b[39;00m\n",
      "File \u001b[0;32m~/.local/lib/python3.10/site-packages/networkx/utils/decorators.py:193\u001b[0m, in \u001b[0;36mopen_file.<locals>._open_file\u001b[0;34m(path)\u001b[0m\n\u001b[1;32m    189\u001b[0m \u001b[38;5;28;01melse\u001b[39;00m:\n\u001b[1;32m    190\u001b[0m     \u001b[38;5;66;03m# could be None, or a file handle, in which case the algorithm will deal with it\u001b[39;00m\n\u001b[1;32m    191\u001b[0m     \u001b[38;5;28;01mreturn\u001b[39;00m path, \u001b[38;5;28;01mlambda\u001b[39;00m: \u001b[38;5;28;01mNone\u001b[39;00m\n\u001b[0;32m--> 193\u001b[0m fobj \u001b[38;5;241m=\u001b[39m \u001b[43m_dispatch_dict\u001b[49m\u001b[43m[\u001b[49m\u001b[43mext\u001b[49m\u001b[43m]\u001b[49m\u001b[43m(\u001b[49m\u001b[43mpath\u001b[49m\u001b[43m,\u001b[49m\u001b[43m \u001b[49m\u001b[43mmode\u001b[49m\u001b[38;5;241;43m=\u001b[39;49m\u001b[43mmode\u001b[49m\u001b[43m)\u001b[49m\n\u001b[1;32m    194\u001b[0m \u001b[38;5;28;01mreturn\u001b[39;00m fobj, \u001b[38;5;28;01mlambda\u001b[39;00m: fobj\u001b[38;5;241m.\u001b[39mclose()\n",
      "\u001b[0;31mFileNotFoundError\u001b[0m: [Errno 2] No such file or directory: 'london_tubenetwork.graphml'"
     ]
    }
   ],
   "source": [
    "london_graph = nx.read_graphml('london_tubenetwork.graphml')"
   ]
  },
  {
   "cell_type": "code",
   "execution_count": 4,
   "metadata": {},
   "outputs": [
    {
     "name": "stdout",
     "output_type": "stream",
     "text": [
      "75\n",
      "graph\n",
      "__doc__\n",
      "edge_subgraph\n",
      "__subclasshook__\n",
      "__ge__\n",
      "add_node\n",
      "__dir__\n",
      "_node\n",
      "remove_edge\n",
      "__getitem__\n"
     ]
    }
   ],
   "source": [
    "print(len(dir(london_graph)))\n",
    "for i in np.random.randint(0, len(dir(london_graph)), 10):\n",
    "    print(dir(london_graph)[i])"
   ]
  },
  {
   "cell_type": "code",
   "execution_count": 5,
   "metadata": {},
   "outputs": [
    {
     "name": "stdout",
     "output_type": "stream",
     "text": [
      "438\n",
      "486\n"
     ]
    }
   ],
   "source": [
    "print(london_graph.number_of_nodes())\n",
    "print(london_graph.number_of_edges())"
   ]
  },
  {
   "cell_type": "code",
   "execution_count": 7,
   "metadata": {},
   "outputs": [
    {
     "data": {
      "text/plain": [
       "([('940GZZLUKSX', 0.016018306636155607),\n",
       "  ('940GZZLUBST', 0.016018306636155607),\n",
       "  ('940GZZLUGPK', 0.013729977116704806),\n",
       "  ('940GZZLUOXC', 0.013729977116704806),\n",
       "  ('940GZZLUECT', 0.013729977116704806),\n",
       "  ('940GZZLUBNK', 0.013729977116704806),\n",
       "  ('940GZZLUWLO', 0.013729977116704806),\n",
       "  ('940GZZLUTNG', 0.011441647597254004),\n",
       "  ('940GZZLULVT', 0.011441647597254004),\n",
       "  ('940GZZLUWHM', 0.011441647597254004)],\n",
       " [('940GZZLUBST', 0.3810150084358616),\n",
       "  ('940GZZLUBLG', 0.3534325817535458),\n",
       "  ('940GZZLUFYR', 0.3365817857034552),\n",
       "  ('940GZZLUBNK', 0.3195625056858345),\n",
       "  ('940GZZLUGPK', 0.31955197127241747),\n",
       "  ('940GZZLUWLO', 0.3172160057103268),\n",
       "  ('940GZZLULVT', 0.3130260708612372),\n",
       "  ('940GZZLUWSM', 0.2899622285670293),\n",
       "  ('940GZZLUBND', 0.2585985889467725),\n",
       "  ('910GWHMDSTD', 0.23656559877955732)],\n",
       " [('940GZZLUGPK', 0.09489685124864278),\n",
       "  ('940GZZLUBND', 0.09373659373659374),\n",
       "  ('940GZZLUWSM', 0.09319684367669012),\n",
       "  ('940GZZLUBST', 0.09289965986394558),\n",
       "  ('940GZZLUWLO', 0.09238900634249471),\n",
       "  ('940GZZLUBNK', 0.092),\n",
       "  ('940GZZLUOXC', 0.09161425576519916),\n",
       "  ('940GZZLULVT', 0.09001029866117405),\n",
       "  ('940GZZLURGP', 0.08927477017364657),\n",
       "  ('940GZZLUFYR', 0.08916547643338094)])"
      ]
     },
     "execution_count": 7,
     "metadata": {},
     "output_type": "execute_result"
    }
   ],
   "source": [
    "# Recompute the centrality measures\n",
    "degree_centrality = nx.degree_centrality(london_graph)\n",
    "betweenness_centrality = nx.betweenness_centrality(london_graph)\n",
    "closeness_centrality = nx.closeness_centrality(london_graph)\n",
    "\n",
    "# Sort and get the top 10 nodes for each centrality measure\n",
    "sorted_degree = sorted(degree_centrality.items(), key=lambda x: x[1], reverse=True)[:10]\n",
    "sorted_betweenness = sorted(betweenness_centrality.items(), key=lambda x: x[1], reverse=True)[:10]\n",
    "sorted_closeness = sorted(closeness_centrality.items(), key=lambda x: x[1], reverse=True)[:10]\n",
    "\n",
    "(sorted_degree, sorted_betweenness, sorted_closeness)\n"
   ]
  },
  {
   "cell_type": "markdown",
   "metadata": {},
   "source": []
  },
  {
   "cell_type": "code",
   "execution_count": null,
   "metadata": {},
   "outputs": [],
   "source": [
    "# Compute initial betweenness centrality\n",
    "initial_betweenness = nx.betweenness_centrality(G)\n",
    "\n",
    "# Initialize a dictionary to store delta centrality\n",
    "delta_centrality = {}\n",
    "\n",
    "# Iterate over all nodes to compute delta centrality\n",
    "for node in G.nodes():\n",
    "    # Create a copy of the graph without the current node\n",
    "    G_copy = copy.deepcopy(G)\n",
    "    G_copy.remove_node(node)\n",
    "    \n",
    "    # Recompute betweenness centrality without the node\n",
    "    new_betweenness = nx.betweenness_centrality(G_copy)\n",
    "    \n",
    "    # Calculate the difference and store it\n",
    "    delta_centrality[node] = sum(abs(initial_betweenness[n] - new_betweenness.get(n, 0)) for n in initial_betweenness)\n",
    "\n",
    "# Sort nodes by their delta centrality\n",
    "sorted_delta_centrality = sorted(delta_centrality.items(), key=lambda x: x[1], reverse=True)"
   ]
  },
  {
   "cell_type": "code",
   "execution_count": null,
   "metadata": {},
   "outputs": [],
   "source": []
  },
  {
   "cell_type": "markdown",
   "metadata": {},
   "source": [
    "Delta centrality"
   ]
  },
  {
   "cell_type": "code",
   "execution_count": null,
   "metadata": {},
   "outputs": [],
   "source": [
    "import networkx as nx\n",
    "import copy\n",
    "\n",
    "# Load your network\n",
    "G = nx.read_graphml('path_to_your_graphml_file.graphml')\n",
    "\n",
    "# Compute initial betweenness centrality\n",
    "initial_betweenness = nx.betweenness_centrality(G)\n",
    "\n",
    "# Initialize a dictionary to store delta centrality\n",
    "delta_centrality = {}\n",
    "\n",
    "# Iterate over all nodes to compute delta centrality\n",
    "for node in G.nodes():\n",
    "    # Create a copy of the graph without the current node\n",
    "    G_copy = copy.deepcopy(G)\n",
    "    G_copy.remove_node(node)\n",
    "    \n",
    "    # Recompute betweenness centrality without the node\n",
    "    new_betweenness = nx.betweenness_centrality(G_copy)\n",
    "    \n",
    "    # Calculate the difference and store it\n",
    "    delta_centrality[node] = sum(abs(initial_betweenness[n] - new_betweenness.get(n, 0)) for n in initial_betweenness)\n",
    "\n",
    "# Sort nodes by their delta centrality\n",
    "sorted_delta_centrality = sorted(delta_centrality.items(), key=lambda x: x[1], reverse=True)\n"
   ]
  },
  {
   "cell_type": "code",
   "execution_count": null,
   "metadata": {},
   "outputs": [],
   "source": []
  },
  {
   "cell_type": "markdown",
   "metadata": {},
   "source": [
    "Find 2 different measures to evaluate the impact of the node removal on the network. These need to \n",
    "be global measures referring to the whole network and not to specific nodes or links. Explain whether \n",
    "these two measures are specific to the London underground, or whether they could also be used to \n",
    "evaluate the resilience of any other network.  "
   ]
  },
  {
   "cell_type": "code",
   "execution_count": null,
   "metadata": {},
   "outputs": [],
   "source": []
  },
  {
   "cell_type": "code",
   "execution_count": null,
   "metadata": {},
   "outputs": [],
   "source": []
  },
  {
   "cell_type": "code",
   "execution_count": null,
   "metadata": {},
   "outputs": [],
   "source": []
  },
  {
   "cell_type": "markdown",
   "metadata": {},
   "source": [
    "For each of the centrality measures selected in I.1. remove at least 10 nodes following two different \n",
    "strategies. A) Non-sequential removal: using the table created in I.1. remove 1 node at a time \n",
    "following the rank in the table, i.e. from the most important one to the 10\n",
    "\n",
    "th most important one. After \n",
    "each removal, evaluate the impact of the removal using your two measures in I.2. and proceed until \n",
    "you have removed at least 10 nodes. B) Sequential: remove the highest ranked node and evaluate the \n",
    "impact using the 2 measures. After removal, re-compute the centrality measure. Remove the highest \n",
    "ranked node in the new network and evaluate the impact. Continue until removing at least 10 nodes. \n",
    "\n",
    "Report the results of the 2 strategies in one plot, and critically discuss the following: which centrality \n",
    "measure reflects better the importance of a station for the functioning of the underground, which \n",
    "strategy is more effective at studying resilience, and which impact measure is better at assessing the \n",
    "damage after node removal.  "
   ]
  },
  {
   "cell_type": "code",
   "execution_count": null,
   "metadata": {},
   "outputs": [],
   "source": []
  }
 ],
 "metadata": {
  "kernelspec": {
   "display_name": "Python 3",
   "language": "python",
   "name": "python3"
  },
  "language_info": {
   "codemirror_mode": {
    "name": "ipython",
    "version": 3
   },
   "file_extension": ".py",
   "mimetype": "text/x-python",
   "name": "python",
   "nbconvert_exporter": "python",
   "pygments_lexer": "ipython3",
   "version": "3.10.12"
  }
 },
 "nbformat": 4,
 "nbformat_minor": 2
}
