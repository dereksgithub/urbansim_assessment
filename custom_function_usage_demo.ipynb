{
 "cells": [
  {
   "cell_type": "markdown",
   "metadata": {},
   "source": [
    "## Custom Function Usage Demo\n",
    "\n",
    "\n",
    "### 1. Model fitness measurement:"
   ]
  },
  {
   "cell_type": "code",
   "execution_count": 1,
   "metadata": {},
   "outputs": [],
   "source": [
    "import numpy as np\n",
    "import pandas as pd\n",
    "from model_metrics import fitness_diy_measure as fitness_measure"
   ]
  },
  {
   "cell_type": "code",
   "execution_count": 5,
   "metadata": {},
   "outputs": [
    {
     "name": "stdout",
     "output_type": "stream",
     "text": [
      "RMSE:  0.31751 , R2:  0.13928 \n",
      " MAE:  0.22875 , MAPE:  1.14872 \n",
      " MSE:  0.10081 , MSLE:  0.04567\n"
     ]
    }
   ],
   "source": [
    "example_df = pd.DataFrame({\"col1\":[0.10, 0.20, 0.30, 0.40, 0.50, 0.60, 0.70, 0.80],\"col2\":[0.71, 0.23, 0.63, 0.94, 0.53, 0.46, 0.75, 0.9]})\n",
    "observed = example_df['col1']  # Selects the first column\n",
    "estimated = example_df['col2']  # Selects the second column\n",
    "\n",
    "# n_num number of digits after the decimal point\n",
    "model_metrics = fitness_measure.FitnessDIYMeasure(observed, estimated, n_num = 5)# ensure the inpute is 1d array\n",
    "\n",
    "model_rmse = model_metrics.calc_rmse()\n",
    "model_r2 = model_metrics.calc_rsquared()\n",
    "model_mae = model_metrics.calc_mae()\n",
    "model_mape = model_metrics.calc_mape()\n",
    "model_mse = model_metrics.calc_mse()\n",
    "model_msle = model_metrics.calc_msle()\n",
    "print(\"RMSE: \", model_rmse, \", R2: \", model_r2, \"\\n\", \"MAE: \", model_mae, \", MAPE: \", model_mape, \"\\n\", \"MSE: \", model_mse, \", MSLE: \", model_msle)"
   ]
  },
  {
   "cell_type": "markdown",
   "metadata": {},
   "source": [
    "### 2. Benchmarking"
   ]
  },
  {
   "cell_type": "code",
   "execution_count": null,
   "metadata": {},
   "outputs": [],
   "source": []
  },
  {
   "cell_type": "code",
   "execution_count": null,
   "metadata": {},
   "outputs": [],
   "source": []
  },
  {
   "cell_type": "code",
   "execution_count": null,
   "metadata": {},
   "outputs": [],
   "source": []
  },
  {
   "cell_type": "code",
   "execution_count": null,
   "metadata": {},
   "outputs": [],
   "source": []
  }
 ],
 "metadata": {
  "kernelspec": {
   "display_name": "Python 3",
   "language": "python",
   "name": "python3"
  },
  "language_info": {
   "codemirror_mode": {
    "name": "ipython",
    "version": 3
   },
   "file_extension": ".py",
   "mimetype": "text/x-python",
   "name": "python",
   "nbconvert_exporter": "python",
   "pygments_lexer": "ipython3",
   "version": "3.10.12"
  }
 },
 "nbformat": 4,
 "nbformat_minor": 2
}
